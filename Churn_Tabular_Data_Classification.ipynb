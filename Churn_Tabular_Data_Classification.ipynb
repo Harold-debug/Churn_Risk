{
 "cells": [
  {
   "cell_type": "markdown",
   "metadata": {},
   "source": [
    "#**Use case : CLASSIFICATION**  \n",
    "dataset ➡ https://www.kaggle.com/datasets/undersc0re/predict-the-churn-risk-rate  \n",
    "*Churn rate is a marketing metric that describes the number of customers who leave a business over a specific time period. . Every user is assigned a prediction value that estimates their state of churn at any given time. This value is based on:*\n",
    "1. User demographic information\n",
    "2. Browsing behavior\n",
    "3. Historical purchase data among other information"
   ]
  },
  {
   "cell_type": "markdown",
   "metadata": {},
   "source": [
    "> # Data cleaning _ Classification"
   ]
  },
  {
   "cell_type": "markdown",
   "metadata": {},
   "source": [
    "> importing dataset"
   ]
  },
  {
   "cell_type": "code",
   "execution_count": 1,
   "metadata": {},
   "outputs": [
    {
     "ename": "ModuleNotFoundError",
     "evalue": "No module named 'pandas'",
     "output_type": "error",
     "traceback": [
      "\u001b[0;31m---------------------------------------------------------------------------\u001b[0m",
      "\u001b[0;31mModuleNotFoundError\u001b[0m                       Traceback (most recent call last)",
      "Cell \u001b[0;32mIn[1], line 2\u001b[0m\n\u001b[1;32m      1\u001b[0m \u001b[38;5;66;03m#import of the dfs\u001b[39;00m\n\u001b[0;32m----> 2\u001b[0m \u001b[38;5;28;01mimport\u001b[39;00m \u001b[38;5;21;01mpandas\u001b[39;00m \u001b[38;5;28;01mas\u001b[39;00m \u001b[38;5;21;01mpd\u001b[39;00m\n\u001b[1;32m      3\u001b[0m \u001b[38;5;28;01mimport\u001b[39;00m \u001b[38;5;21;01mnumpy\u001b[39;00m \u001b[38;5;28;01mas\u001b[39;00m \u001b[38;5;21;01mnp\u001b[39;00m\n\u001b[1;32m      4\u001b[0m \u001b[38;5;28;01mimport\u001b[39;00m \u001b[38;5;21;01mseaborn\u001b[39;00m \u001b[38;5;28;01mas\u001b[39;00m \u001b[38;5;21;01msns\u001b[39;00m\n",
      "\u001b[0;31mModuleNotFoundError\u001b[0m: No module named 'pandas'"
     ]
    }
   ],
   "source": [
    "#import of the dfs\n",
    "import pandas as pd\n",
    "import numpy as np\n",
    "import seaborn as sns\n",
    "import matplotlib.pyplot as plt\n",
    "from sklearn.model_selection import train_test_split\n",
    "from sklearn.preprocessing import LabelEncoder\n",
    "from sklearn.linear_model import LogisticRegression\n",
    "from sklearn.metrics import accuracy_score, classification_report, confusion_matrix\n",
    "churn_df=pd.read_csv(\"churn.csv\")"
   ]
  },
  {
   "cell_type": "markdown",
   "metadata": {},
   "source": [
    "> datasets overview"
   ]
  },
  {
   "cell_type": "code",
   "execution_count": null,
   "metadata": {},
   "outputs": [],
   "source": [
    "#a look into the dfs\n",
    "churn_df"
   ]
  },
  {
   "cell_type": "markdown",
   "metadata": {},
   "source": [
    "> handling missing values"
   ]
  },
  {
   "cell_type": "code",
   "execution_count": null,
   "metadata": {},
   "outputs": [],
   "source": [
    "\n",
    "# Handling missing values\n",
    "churn_df.fillna(churn_df.mean(), inplace=True)\n",
    "churn_df.fillna(churn_df.mode().iloc[0], inplace=True)\n",
    "\n",
    "# Correct Data Types\n",
    "churn_df['joining_date'] = pd.to_datetime(churn_df['joining_date'])\n",
    "churn_df['last_visit_time'] = pd.to_datetime(churn_df['last_visit_time'])\n",
    "\n",
    "categorical_columns = ['region_category', 'membership_category', 'joined_through_referral', 'preferred_offer_types', 'medium_of_operation', 'internet_option', 'used_special_discount', 'offer_application_preference', 'past_complaint', 'complaint_status', 'feedback']\n",
    "for col in categorical_columns:\n",
    "    churn_df[col] = churn_df[col].astype('category')\n",
    "\n",
    "numeric_columns = ['avg_transaction_value', 'points_in_wallet']\n",
    "for col in numeric_columns:\n",
    "    churn_df[col] = churn_df[col].replace({'\\$': '', ',': ''}, regex=True).astype(float)\n",
    "\n",
    "# Remove Duplicates\n",
    "churn_df.drop_duplicates(inplace=True)\n",
    "\n",
    "# Handle Outliers\n",
    "churn_df = churn_df[(np.abs(churn_df['age'] - churn_df['age'].mean()) <= (3 * churn_df['age'].std()))]\n",
    "\n",
    "# Feature Engineering\n",
    "churn_df['membership_duration'] = (pd.to_datetime('now') - churn_df['joining_date']).dt.days\n",
    "churn_df['age_group'] = pd.cut(churn_df['age'], bins=[0, 18, 35, 60, 100], labels=['<18', '18-35', '35-60', '>60'])\n",
    "\n",
    "# One-Hot Encoding\n",
    "churn_df = pd.get_dummies(churn_df, columns=['region_category', 'membership_category'])\n"
   ]
  },
  {
   "cell_type": "markdown",
   "metadata": {},
   "source": [
    "> # Data visualisation _ Classification"
   ]
  },
  {
   "cell_type": "markdown",
   "metadata": {},
   "source": [
    "> Histogram:"
   ]
  },
  {
   "cell_type": "code",
   "execution_count": null,
   "metadata": {},
   "outputs": [],
   "source": [
    "# Visualize the distribution of customer age\n",
    "churn_df['age'].hist()\n",
    "plt.title('Distribution of Customer Age')\n",
    "plt.xlabel('Age')\n",
    "plt.ylabel('Frequency')\n",
    "plt.show()"
   ]
  },
  {
   "cell_type": "markdown",
   "metadata": {},
   "source": [
    "> Box Plots:"
   ]
  },
  {
   "cell_type": "code",
   "execution_count": null,
   "metadata": {},
   "outputs": [],
   "source": [
    "# Display the distribution of average transaction value\n",
    "sns.boxplot(y=churn_df['avg_transaction_value'])\n",
    "plt.title('Box Plot of Average Transaction Value')\n",
    "plt.ylabel('Average Transaction Value')\n",
    "plt.show()"
   ]
  },
  {
   "cell_type": "markdown",
   "metadata": {},
   "source": [
    "# **The Classification model**"
   ]
  },
  {
   "cell_type": "code",
   "execution_count": null,
   "metadata": {},
   "outputs": [],
   "source": [
    "# Import necessary libraries\n",
    "import pandas as pd\n",
    "import numpy as np\n",
    "import seaborn as sns\n",
    "import matplotlib.pyplot as plt\n",
    "from sklearn.model_selection import train_test_split\n",
    "from sklearn.preprocessing import LabelEncoder\n",
    "from sklearn.ensemble import AdaBoostClassifier  # Added AdaBoost\n",
    "from sklearn.metrics import accuracy_score, classification_report, confusion_matrix\n",
    "\n",
    "# Load dataset\n",
    "churn_df = pd.read_csv(\"churn.csv\")"
   ]
  },
  {
   "cell_type": "code",
   "execution_count": null,
   "metadata": {},
   "outputs": [],
   "source": [
    "# Handling missing values\n",
    "churn_df.fillna(churn_df.mean(), inplace=True)\n",
    "churn_df.fillna(churn_df.mode().iloc[0], inplace=True)\n",
    "\n",
    "# Correct Data Types\n",
    "churn_df['joining_date'] = pd.to_datetime(churn_df['joining_date'])\n",
    "churn_df['last_visit_time'] = pd.to_datetime(churn_df['last_visit_time'])\n",
    "\n",
    "categorical_columns = ['region_category', 'membership_category', 'joined_through_referral', 'preferred_offer_types', 'medium_of_operation', 'internet_option', 'used_special_discount', 'offer_application_preference', 'past_complaint', 'complaint_status', 'feedback']\n",
    "for col in categorical_columns:\n",
    "    churn_df[col] = churn_df[col].astype('category')\n",
    "\n",
    "numeric_columns = ['avg_transaction_value', 'points_in_wallet']\n",
    "for col in numeric_columns:\n",
    "    churn_df[col] = churn_df[col].replace({'\\$': '', ',': ''}, regex=True).astype(float)\n",
    "\n",
    "# Remove Duplicates\n",
    "churn_df.drop_duplicates(inplace=True)\n",
    "\n",
    "# Handle Outliers\n",
    "churn_df = churn_df[(np.abs(churn_df['age'] - churn_df['age'].mean()) <= (3 * churn_df['age'].std()))]\n",
    "\n",
    "# Feature Engineering\n",
    "churn_df['membership_duration'] = (pd.to_datetime('now') - churn_df['joining_date']).dt.days\n",
    "churn_df['age_group'] = pd.cut(churn_df['age'], bins=[0, 18, 35, 60, 100], labels=['<18', '18-35', '35-60', '>60'])\n",
    "\n",
    "# One-Hot Encoding\n",
    "churn_df = pd.get_dummies(churn_df, columns=['region_category', 'membership_category'])\n"
   ]
  },
  {
   "cell_type": "code",
   "execution_count": null,
   "metadata": {},
   "outputs": [],
   "source": [
    "# Data visualisation - Classification\n",
    "# Visualize the distribution of customer age\n",
    "churn_df['age'].hist()\n",
    "plt.title('Distribution of Customer Age')\n",
    "plt.xlabel('Age')\n",
    "plt.ylabel('Frequency')\n",
    "plt.show()\n",
    "\n",
    "# Display the distribution of average transaction value\n",
    "sns.boxplot(y=churn_df['avg_transaction_value'])\n",
    "plt.title('Box Plot of Average Transaction Value')\n",
    "plt.ylabel('Average Transaction Value')\n",
    "plt.show()\n"
   ]
  },
  {
   "cell_type": "code",
   "execution_count": null,
   "metadata": {},
   "outputs": [],
   "source": [
    "# AdaBoost Model\n",
    "# Feature Selection\n",
    "features = ['age', 'avg_transaction_value', 'points_in_wallet', 'membership_duration', 'region_category_City', 'region_category_Town', 'region_category_Village']\n",
    "X = churn_df[features]\n",
    "y = churn_df['churn_risk_score']\n",
    "\n",
    "# Split the data into training and testing sets\n",
    "X_train, X_test, y_train, y_test = train_test_split(X, y, test_size=0.3, random_state=42)\n",
    "\n",
    "# Create AdaBoost classifier\n",
    "adaboost_model = AdaBoostClassifier(n_estimators=50, random_state=42)  # You can adjust the number of estimators as needed\n"
   ]
  },
  {
   "cell_type": "code",
   "execution_count": null,
   "metadata": {},
   "outputs": [],
   "source": [
    "\n",
    "# Train the AdaBoost model\n",
    "adaboost_model.fit(X_train, y_train)\n",
    "\n",
    "# Test the AdaBoost model\n",
    "y_pred_adaboost = adaboost_model.predict(X_test)"
   ]
  },
  {
   "cell_type": "markdown",
   "metadata": {},
   "source": [
    "The goal here is to create a classification model to classify the churn risk score"
   ]
  },
  {
   "cell_type": "code",
   "execution_count": null,
   "metadata": {},
   "outputs": [],
   "source": [
    "# Evaluate the performance of the AdaBoost model\n",
    "accuracy_adaboost = accuracy_score(y_test, y_pred_adaboost)\n",
    "classification_report_output_adaboost = classification_report(y_test, y_pred_adaboost)\n",
    "conf_matrix_adaboost = confusion_matrix(y_test, y_pred_adaboost)\n",
    "\n",
    "# Print results for AdaBoost\n",
    "print('\\nAdaBoost Model:')\n",
    "print(f'Accuracy: {accuracy_adaboost}')\n",
    "print('Classification Report:')\n",
    "print(classification_report_output_adaboost)\n",
    "print('Confusion Matrix:')\n",
    "print(conf_matrix_adaboost)\n"
   ]
  }
 ],
 "metadata": {
  "kernelspec": {
   "display_name": "Python 3",
   "language": "python",
   "name": "python3"
  },
  "language_info": {
   "codemirror_mode": {
    "name": "ipython",
    "version": 3
   },
   "file_extension": ".py",
   "mimetype": "text/x-python",
   "name": "python",
   "nbconvert_exporter": "python",
   "pygments_lexer": "ipython3",
   "version": "3.8.18"
  }
 },
 "nbformat": 4,
 "nbformat_minor": 2
}
